{
 "cells": [
  {
   "cell_type": "markdown",
   "metadata": {},
   "source": [
    "# Classification des documents du procès des groupes américains du tabac"
   ]
  },
  {
   "cell_type": "markdown",
   "metadata": {},
   "source": [
    "Réalisé par: Nasreddine Menacer<br>\n",
    "Université de Rouen / Master 2 SD-2018/2019"
   ]
  },
  {
   "cell_type": "markdown",
   "metadata": {},
   "source": [
    "# Contexte"
   ]
  },
  {
   "cell_type": "markdown",
   "metadata": {},
   "source": [
    "# 1- Analyse des données"
   ]
  },
  {
   "cell_type": "markdown",
   "metadata": {},
   "source": [
    "Le gouvernement américain a attaqué en justice cinq grands groupes américains du tabac pour avoir amassé d'importants bénéfices en mentant sur les dangers de la cigarette. Le cigarettiers  se sont entendus dès 1953, pour \"mener ensemble une vaste campagne de relations publiques afin de contrer les preuves de plus en plus manifestes d'un lien entre la consommation de tabac et des maladies graves\".\n",
    "Dans ce procès 14 millions de documents ont été collectés et numérisés. Afin de faciliter l'exploitation de ces documents par les avocats, vous êtes en charge de mettre en place une classification automatique des types de documents.\n",
    "Un échantillon aléatoire des documents a été collecté et des opérateurs ont classé les documents dans des répertoires correspondant aux classes de documents : lettres, rapports, notes, email, etc."
   ]
  },
  {
   "cell_type": "markdown",
   "metadata": {},
   "source": [
    "Chargement des Packages "
   ]
  },
  {
   "cell_type": "code",
   "execution_count": 50,
   "metadata": {
    "collapsed": true
   },
   "outputs": [],
   "source": [
    "import numpy as np\n",
    "import pandas as pd\n",
    "import seaborn as sns\n",
    "import matplotlib.pyplot as plt\n",
    "from sklearn.model_selection import train_test_split\n",
    "from sklearn.feature_extraction.text import CountVectorizer\n",
    "from sklearn.naive_bayes import MultinomialNB\n",
    "from sklearn.model_selection import train_test_split, GridSearchCV\n",
    "from sklearn import metrics\n",
    "from sklearn.feature_extraction.text import TfidfTransformer\n",
    "from sklearn.neural_network import MLPClassifier\n",
    "from sklearn.metrics import classification_report\n",
    "from sklearn.metrics import confusion_matrix"
   ]
  },
  {
   "cell_type": "markdown",
   "metadata": {},
   "source": [
    "- Premièrement je vais charger le fichier 'Tobacco3482.csv' qui contient la classe de  chaque document,\n",
    "définies par des opérateurs."
   ]
  },
  {
   "cell_type": "code",
   "execution_count": 51,
   "metadata": {
    "collapsed": true
   },
   "outputs": [],
   "source": [
    "data= pd.read_csv('Tobacco3482.csv')"
   ]
  },
  {
   "cell_type": "markdown",
   "metadata": {},
   "source": [
    "- Je vais ensuite faire une analyse statistique des données"
   ]
  },
  {
   "cell_type": "code",
   "execution_count": 52,
   "metadata": {},
   "outputs": [
    {
     "data": {
      "image/png": "[encoded data removed]",
      "text/plain": [
       "<Figure size 432x288 with 1 Axes>"
      ]
     },
     "metadata": {},
     "output_type": "display_data"
    }
   ],
   "source": [
    "sns.countplot(data=data,y='label') \n",
    "plt.show()"
   ]
  },
  {
   "cell_type": "markdown",
   "metadata": {},
   "source": [
    "On constate que pour des techniques de classification et de traitement automatique de texte, le nombre des données est faible, et qu'il y a seulement quatre étiquettes plus présentes que les autres"
   ]
  },
  {
   "cell_type": "markdown",
   "metadata": {},
   "source": [
    "- J'ai aussi effectué une analyse descriptive qui va permettre d'étudier la distribution des classes"
   ]
  },
  {
   "cell_type": "code",
   "execution_count": 53,
   "metadata": {},
   "outputs": [
    {
     "data": {
      "text/html": [
       "<div>\n",
       "<style>\n",
       "    .dataframe thead tr:only-child th {\n",
       "        text-align: right;\n",
       "    }\n",
       "\n",
       "    .dataframe thead th {\n",
       "        text-align: left;\n",
       "    }\n",
       "\n",
       "    .dataframe tbody tr th {\n",
       "        vertical-align: top;\n",
       "    }\n",
       "</style>\n",
       "<table border=\"1\" class=\"dataframe\">\n",
       "  <thead>\n",
       "    <tr style=\"text-align: right;\">\n",
       "      <th></th>\n",
       "      <th>img_path</th>\n",
       "      <th>label</th>\n",
       "    </tr>\n",
       "  </thead>\n",
       "  <tbody>\n",
       "    <tr>\n",
       "      <th>1426</th>\n",
       "      <td>Letter/502393490+-3490.jpg</td>\n",
       "      <td>Letter</td>\n",
       "    </tr>\n",
       "    <tr>\n",
       "      <th>1334</th>\n",
       "      <td>Letter/50004413_50004414.jpg</td>\n",
       "      <td>Letter</td>\n",
       "    </tr>\n",
       "    <tr>\n",
       "      <th>1336</th>\n",
       "      <td>Letter/50006758.jpg</td>\n",
       "      <td>Letter</td>\n",
       "    </tr>\n",
       "    <tr>\n",
       "      <th>2927</th>\n",
       "      <td>Report/505830872+-0875.jpg</td>\n",
       "      <td>Report</td>\n",
       "    </tr>\n",
       "    <tr>\n",
       "      <th>3416</th>\n",
       "      <td>Scientific/50511224-1224.jpg</td>\n",
       "      <td>Scientific</td>\n",
       "    </tr>\n",
       "    <tr>\n",
       "      <th>2478</th>\n",
       "      <td>News/1003042513-b.jpg</td>\n",
       "      <td>News</td>\n",
       "    </tr>\n",
       "    <tr>\n",
       "      <th>910</th>\n",
       "      <td>Form/2030138503.jpg</td>\n",
       "      <td>Form</td>\n",
       "    </tr>\n",
       "    <tr>\n",
       "      <th>1015</th>\n",
       "      <td>Form/2063330045.jpg</td>\n",
       "      <td>Form</td>\n",
       "    </tr>\n",
       "    <tr>\n",
       "      <th>2901</th>\n",
       "      <td>Report/503958547_503958548.jpg</td>\n",
       "      <td>Report</td>\n",
       "    </tr>\n",
       "    <tr>\n",
       "      <th>1490</th>\n",
       "      <td>Letter/504789202_504789204.jpg</td>\n",
       "      <td>Letter</td>\n",
       "    </tr>\n",
       "  </tbody>\n",
       "</table>\n",
       "</div>"
      ],
      "text/plain": [
       "                            img_path       label\n",
       "1426      Letter/502393490+-3490.jpg      Letter\n",
       "1334    Letter/50004413_50004414.jpg      Letter\n",
       "1336             Letter/50006758.jpg      Letter\n",
       "2927      Report/505830872+-0875.jpg      Report\n",
       "3416    Scientific/50511224-1224.jpg  Scientific\n",
       "2478           News/1003042513-b.jpg        News\n",
       "910              Form/2030138503.jpg        Form\n",
       "1015             Form/2063330045.jpg        Form\n",
       "2901  Report/503958547_503958548.jpg      Report\n",
       "1490  Letter/504789202_504789204.jpg      Letter"
      ]
     },
     "execution_count": 53,
     "metadata": {},
     "output_type": "execute_result"
    }
   ],
   "source": [
    "classes = pd.read_csv('Tobacco3482.csv', sep = \",\")\n",
    "classes.sample(10)"
   ]
  },
  {
   "cell_type": "markdown",
   "metadata": {},
   "source": [
    "- J'ai aussi vérifier s'il y a des étiquettes manquantes, des incohérence entre la classe réelle du document et la classe notée "
   ]
  },
  {
   "cell_type": "code",
   "execution_count": 54,
   "metadata": {},
   "outputs": [
    {
     "name": "stdout",
     "output_type": "stream",
     "text": [
      "Les étiquettes manquantes : 0.0\n",
      "Les documents mal classé : 0\n"
     ]
    }
   ],
   "source": [
    "print(\"Les étiquettes manquantes :\", 1.0 - classes.shape[0] / classes.dropna().shape[0])\n",
    "s = 0\n",
    "for i in range(classes.shape[0]):\n",
    "    s += classes[\"img_path\"][i].split(\"/\")[0] == classes[\"label\"][i]\n",
    "print(\"Les documents mal classé :\", classes.shape[0] - s)"
   ]
  },
  {
   "cell_type": "markdown",
   "metadata": {},
   "source": [
    "On a la certitude qu'il n'y a aucun document mal classé, et qu'il n'y a aucune étiquette manquantes"
   ]
  },
  {
   "cell_type": "markdown",
   "metadata": {},
   "source": [
    "- Pour avoir une idée des données qu'on vas manipuler j'ai visualisé un echentillont du fichier"
   ]
  },
  {
   "cell_type": "code",
   "execution_count": 55,
   "metadata": {},
   "outputs": [
    {
     "name": "stdout",
     "output_type": "stream",
     "text": [
      "                                                text          label\n",
      "0  A Mpertant as yar\\nsesiye teaetered cabiieess....  Advertisement\n",
      "1  TE che fitm\\n\\nm66400 7127\\n\\nKOOLS are the on...  Advertisement\n",
      "2  so ARN Rr nr\\n\\nBWR Ga ||\\n\\nVending Operators...  Advertisement\n",
      "3  MARCH 24,19 VO — 3. Tersrearep\\n\\n \\n\\n‘ yi il...  Advertisement\n",
      "4  ~\\n\\nSpend a milder moment qs\\nwith Raleigh.\\n...  Advertisement\n"
     ]
    }
   ],
   "source": [
    "data_txt=[]\n",
    "data_txt=data\n",
    "\n",
    "NB = data_txt.shape[0]\n",
    "for i in range (NB):\n",
    "    A = data_txt.get_value(i, 'img_path')\n",
    "    data_txt.set_value(i, 'img_path', 'Tobacco3482-OCR/'+A)\n",
    "    data_txt.set_value(i, 'img_path', data_txt.get_value(i, 'img_path').split('.jpg')[0]+'.txt')\n",
    "    data_txt.set_value(i, 'img_path',open(data_txt.get_value(i, 'img_path'), \"r\",encoding=\"utf8\").read())\n",
    "data_txt.columns = ['text','label']\n",
    "print(data_txt.head())"
   ]
  },
  {
   "cell_type": "markdown",
   "metadata": {},
   "source": [
    "On peut visualiser ici les quatre premiers textes (une partie du texte), et l'étiquette associée a celui-ci"
   ]
  },
  {
   "cell_type": "markdown",
   "metadata": {},
   "source": [
    "# 2-Machine learniing"
   ]
  },
  {
   "cell_type": "markdown",
   "metadata": {},
   "source": [
    "j'ai choisie ici d'appliquer deux mèthodes de machine learning, et donc traiter le texte, pour essayer d'entrainer les classifieurs et essayer de prédire la classe d'un document."
   ]
  },
  {
   "cell_type": "markdown",
   "metadata": {},
   "source": [
    "### 2.1-Bag of Word"
   ]
  },
  {
   "cell_type": "markdown",
   "metadata": {},
   "source": [
    "Pour appliquer la méthode de bag of word, les documents doivent être transformés en vecteurs. Pour cela j'ai transformer les documents en vecteurs et je les est encodés en sac de mots en utilisant la fonction CountVectorizer de Sklearn."
   ]
  },
  {
   "cell_type": "markdown",
   "metadata": {},
   "source": [
    "Avant ça j'ai dévisé les données en trois parties, données d'entrainement, données de test, et données de validation."
   ]
  },
  {
   "cell_type": "code",
   "execution_count": 56,
   "metadata": {
    "collapsed": true
   },
   "outputs": [],
   "source": [
    "X_train, X_app, y_train, y_app = train_test_split(data['text'], data['label'], test_size=0.4)\n",
    "X_test,X_dev,y_test,y_dev=train_test_split(X_app, y_app, test_size=0.5)"
   ]
  },
  {
   "cell_type": "markdown",
   "metadata": {},
   "source": [
    "j'ai pris 60% des données comme données d'entrainement, et les 40% qui reste sont dévisés en deux pour servir de données de teste et de validation "
   ]
  },
  {
   "cell_type": "code",
   "execution_count": 57,
   "metadata": {},
   "outputs": [
    {
     "name": "stdout",
     "output_type": "stream",
     "text": [
      "train data size= 2089 X_test data size= 696 dev data size= 697\n"
     ]
    }
   ],
   "source": [
    "print('train data size=',X_train.shape[0],'X_test data size=',X_test.shape[0],'dev data size=',X_dev.shape[0])"
   ]
  },
  {
   "cell_type": "code",
   "execution_count": 58,
   "metadata": {
    "collapsed": true
   },
   "outputs": [],
   "source": [
    "vectorizer = CountVectorizer(max_features=2000)\n",
    "vectorizer.fit(X_train)\n",
    "X_train_counts = vectorizer.transform(X_train)\n",
    "X_dev_counts = vectorizer.transform(X_dev)\n",
    "X_test_counts = vectorizer.transform(X_test)    "
   ]
  },
  {
   "cell_type": "markdown",
   "metadata": {},
   "source": [
    "- J'ai ensuite appliqué la fonction GridSearsh sur un classifieur bayésien naïf, pour trouver le meilleur paramètre alpha, avec une cross validation=5, la précision du classifieur est la moyenne des précision de chaque opération.\n",
    "- Le principe de ce classifieur est d'utiliser une hypothèse d'indépendence entre les caractéristiques des classes pour estimer une probabilité associée à l'appartenance à une classe."
   ]
  },
  {
   "cell_type": "code",
   "execution_count": 59,
   "metadata": {},
   "outputs": [
    {
     "name": "stderr",
     "output_type": "stream",
     "text": [
      "C:\\ProgramData\\Anaconda3\\lib\\site-packages\\sklearn\\naive_bayes.py:472: UserWarning: alpha too small will result in numeric errors, setting alpha = 1.0e-10\n",
      "  'setting alpha = %.1e' % _ALPHA_MIN)\n",
      "C:\\ProgramData\\Anaconda3\\lib\\site-packages\\sklearn\\naive_bayes.py:472: UserWarning: alpha too small will result in numeric errors, setting alpha = 1.0e-10\n",
      "  'setting alpha = %.1e' % _ALPHA_MIN)\n",
      "C:\\ProgramData\\Anaconda3\\lib\\site-packages\\sklearn\\naive_bayes.py:472: UserWarning: alpha too small will result in numeric errors, setting alpha = 1.0e-10\n",
      "  'setting alpha = %.1e' % _ALPHA_MIN)\n",
      "C:\\ProgramData\\Anaconda3\\lib\\site-packages\\sklearn\\naive_bayes.py:472: UserWarning: alpha too small will result in numeric errors, setting alpha = 1.0e-10\n",
      "  'setting alpha = %.1e' % _ALPHA_MIN)\n",
      "C:\\ProgramData\\Anaconda3\\lib\\site-packages\\sklearn\\naive_bayes.py:472: UserWarning: alpha too small will result in numeric errors, setting alpha = 1.0e-10\n",
      "  'setting alpha = %.1e' % _ALPHA_MIN)\n"
     ]
    },
    {
     "name": "stdout",
     "output_type": "stream",
     "text": [
      "Rang 1\n",
      "Alpha : 1.0\n",
      "La précision moyenne : 0.719\n",
      "\n",
      "Rang 2\n",
      "Alpha : 2.0\n",
      "La précision moyenne : 0.715\n",
      "\n",
      "Rang 3\n",
      "Alpha : 3.0\n",
      "La précision moyenne : 0.714\n",
      "\n",
      "Rang 4\n",
      "Alpha : 5.0\n",
      "La précision moyenne : 0.708\n",
      "\n",
      "Rang 5\n",
      "Alpha : 4.0\n",
      "La précision moyenne : 0.707\n",
      "\n",
      "Rang 6\n",
      "Alpha : 7.0\n",
      "La précision moyenne : 0.691\n",
      "\n",
      "Rang 7\n",
      "Alpha : 8.0\n",
      "La précision moyenne : 0.687\n",
      "\n",
      "Rang 8\n",
      "Alpha : 9.0\n",
      "La précision moyenne : 0.682\n",
      "\n",
      "Rang 9\n",
      "Alpha : 10.0\n",
      "La précision moyenne : 0.676\n",
      "\n",
      "Rang 10\n",
      "Alpha : 0.0\n",
      "La précision moyenne : 0.651\n",
      "\n"
     ]
    }
   ],
   "source": [
    "parameters = {'alpha' : [0.0, 1.0, 2.0, 3.0, 4.0, 5.0, 7.0, 8.0, 9.0, 10.0]}\n",
    "\n",
    "nb_classifier = MultinomialNB()\n",
    "grid_search_clf = GridSearchCV(nb_classifier, parameters, cv=5, return_train_score=True)\n",
    "grid_search_clf.fit(X_train_counts, y_train)\n",
    "res = grid_search_clf.cv_results_\n",
    "\n",
    "for i in range(1,11):\n",
    "    print('Rang', i)\n",
    "    ind = np.where(res['rank_test_score'] == i)\n",
    "    print('Alpha : {}'.format(res['params'][ind[0][0]]['alpha']))\n",
    "    print('La précision moyenne : {}\\n'.format(round(res['mean_test_score'][ind][0], 3)))"
   ]
  },
  {
   "cell_type": "markdown",
   "metadata": {},
   "source": [
    "Aprés dix valuers de alpha testés par GridSearch, on remparque que la valeur 1 donne la meilleur precision, je vais utiliser cette valeur donc pour construire un classifiur bayésien, l'entrainé et le testé sur les données de teste et de validation."
   ]
  },
  {
   "cell_type": "code",
   "execution_count": 60,
   "metadata": {},
   "outputs": [
    {
     "name": "stdout",
     "output_type": "stream",
     "text": [
      "La précision sur les données d'entrainement est :  0.8353279080899952\n",
      "La précision sur les données de validation est :  0.7101865136298422\n",
      "La précision sur les données de test est :  0.7140804597701149\n"
     ]
    }
   ],
   "source": [
    "nb_classifier = MultinomialNB(alpha=1.)\n",
    "nb_classifier.fit(X_train_counts, y_train)\n",
    "\n",
    "pred_train = nb_classifier.predict(X_train_counts)\n",
    "pred_dev = nb_classifier.predict(X_dev_counts)\n",
    "pred_test = nb_classifier.predict(X_test_counts)\n",
    "\n",
    "print(\"La précision sur les données d'entrainement est : \", metrics.accuracy_score(y_train, pred_train))\n",
    "print(\"La précision sur les données de validation est : \", metrics.accuracy_score(y_dev, pred_dev))\n",
    "print(\"La précision sur les données de test est : \", metrics.accuracy_score(y_test, pred_test))"
   ]
  },
  {
   "cell_type": "markdown",
   "metadata": {},
   "source": [
    "### 2.2-TF IDF"
   ]
  },
  {
   "cell_type": "code",
   "execution_count": 61,
   "metadata": {
    "collapsed": true
   },
   "outputs": [],
   "source": [
    "tf_transformer = TfidfTransformer().fit(X_train_counts)\n",
    "X_train_tf = tf_transformer.transform(X_train_counts)\n",
    "X_dev_tf = tf_transformer.transform(X_dev_counts)\n",
    "X_test_tf = tf_transformer.transform(X_test_counts)"
   ]
  },
  {
   "cell_type": "markdown",
   "metadata": {},
   "source": [
    "De meme que pour la methode de bag of word, je vais utiliser, le classifieur bayésien, créé avec un alpha=1, pour calculer la precision sur chaque jeux de données."
   ]
  },
  {
   "cell_type": "code",
   "execution_count": 62,
   "metadata": {},
   "outputs": [
    {
     "name": "stdout",
     "output_type": "stream",
     "text": [
      "La précision sur les données d'entrainement est:  0.7415031115366204\n",
      "La précision sur les données de validation est :  0.6556671449067432\n",
      "La précision sur les données de test est :  0.6422413793103449\n"
     ]
    }
   ],
   "source": [
    "nb_classifier.fit(X_train_tf, y_train)\n",
    "\n",
    "pred_train_tf = nb_classifier.predict(X_train_tf)\n",
    "pred_dev_tf = nb_classifier.predict(X_dev_tf)\n",
    "pred_test_tf = nb_classifier.predict(X_test_tf)\n",
    "\n",
    "print(\"La précision sur les données d'entrainement est: \", metrics.accuracy_score(y_train, pred_train_tf))\n",
    "print(\"La précision sur les données de validation est : \", metrics.accuracy_score(y_dev, pred_dev_tf))\n",
    "print(\"La précision sur les données de test est : \", metrics.accuracy_score(y_test, pred_test_tf))"
   ]
  },
  {
   "cell_type": "markdown",
   "metadata": {},
   "source": [
    "# 3-Deep Learning"
   ]
  },
  {
   "cell_type": "markdown",
   "metadata": {},
   "source": [
    "### - MLP with BoW"
   ]
  },
  {
   "cell_type": "markdown",
   "metadata": {},
   "source": [
    "J'ai choisie dans cette partie d'implémenter un MLP ( multi layer perceptrant), avec les données issus de la methode bag of word, puisque c'est elle qui nous à donné de meilleur résultat de pecision, pour cela j'ai utilisé une couche d'activation 'relu', un alpha=1, un solveur de type 'verbose' et un batch size de taille 50, normalement c'est paramètre devrait etre calculé avec la fonction GridSearch, avec une cross validation mais par manque de ressources matériels, ça prend beaucoup de temps."
   ]
  },
  {
   "cell_type": "code",
   "execution_count": 63,
   "metadata": {},
   "outputs": [
    {
     "name": "stdout",
     "output_type": "stream",
     "text": [
      "Iteration 1, loss = 3.02131435\n",
      "Iteration 2, loss = 1.64572152\n",
      "Iteration 3, loss = 1.20849408\n",
      "Iteration 4, loss = 1.00649682\n",
      "Iteration 5, loss = 0.90467386\n",
      "Iteration 6, loss = 0.83971021\n",
      "Iteration 7, loss = 0.80657177\n",
      "Iteration 8, loss = 0.78652692\n",
      "Iteration 9, loss = 0.76760132\n",
      "Iteration 10, loss = 0.74839446\n",
      "Iteration 11, loss = 0.74797964\n",
      "Iteration 12, loss = 0.73603652\n",
      "Iteration 13, loss = 0.72608540\n",
      "Iteration 14, loss = 0.72080346\n",
      "Iteration 15, loss = 0.72336314\n",
      "Iteration 16, loss = 0.72521637\n",
      "Iteration 17, loss = 0.72841585\n",
      "Training loss did not improve more than tol=0.000100 for two consecutive epochs. Stopping.\n",
      "La précision sur les données d'entrainement est :  0.9621828626136908\n",
      "La précision sur les données de validation est :  0.7790530846484935\n",
      "La précision sur les données de test est :  0.7586206896551724\n"
     ]
    }
   ],
   "source": [
    "mlp_clf = MLPClassifier(activation='relu', alpha=1.0, verbose=2, batch_size=50)\n",
    "mlp_clf.fit(X_train_counts, y_train)\n",
    "\n",
    "pred_train_mlp = mlp_clf.predict(X_train_counts)\n",
    "pred_dev_mlp = mlp_clf.predict(X_dev_counts)\n",
    "pred_test_mlp = mlp_clf.predict(X_test_counts)\n",
    "\n",
    "print(\"La précision sur les données d'entrainement est : \", metrics.accuracy_score(y_train, pred_train_mlp))\n",
    "print(\"La précision sur les données de validation est : \", metrics.accuracy_score(y_dev, pred_dev_mlp))\n",
    "print(\"La précision sur les données de test est : \", metrics.accuracy_score(y_test, pred_test_mlp))"
   ]
  },
  {
   "cell_type": "markdown",
   "metadata": {},
   "source": [
    "# 3-Analyse des Performances "
   ]
  },
  {
   "cell_type": "code",
   "execution_count": 76,
   "metadata": {},
   "outputs": [
    {
     "name": "stdout",
     "output_type": "stream",
     "text": [
      "------------------  Naive Bayse Bag Of  Word  ------------------\n",
      "\n",
      "La précision sur les données d'entrainement est :  0.8353279080899952\n",
      "La précision sur les données de validation est :  0.7101865136298422\n",
      "La précision sur les données de test est :  0.7140804597701149\n",
      "\n",
      "\n",
      " Matrice de Classification \n",
      "\n",
      "               precision    recall  f1-score   support\n",
      "\n",
      "Advertisement       0.64      0.60      0.62        47\n",
      "        Email       0.93      0.94      0.94       120\n",
      "         Form       0.70      0.82      0.75        76\n",
      "       Letter       0.74      0.61      0.67       132\n",
      "         Memo       0.63      0.75      0.68       112\n",
      "         News       0.62      0.79      0.70        38\n",
      "         Note       0.44      0.28      0.34        39\n",
      "       Report       0.51      0.54      0.53        48\n",
      "       Resume       1.00      0.95      0.98        21\n",
      "   Scientific       0.78      0.67      0.72        63\n",
      "\n",
      "  avg / total       0.72      0.71      0.71       696\n",
      "\n",
      "Matrice de Confusion Bag Of Word\n",
      "[[ 28   0   6   0   5   3   4   1   0   0]\n",
      " [  0 113   0   3   3   1   0   0   0   0]\n",
      " [  5   0  62   1   3   0   5   0   0   0]\n",
      " [  0   2   2  81  22   7   1  15   0   2]\n",
      " [  2   3   1  12  84   1   1   7   0   1]\n",
      " [  5   0   0   0   0  30   2   0   0   1]\n",
      " [  2   3   7   6   9   0  11   0   0   1]\n",
      " [  0   0   1   6   5   3   0  26   0   7]\n",
      " [  0   0   0   0   0   0   1   0  20   0]\n",
      " [  2   0  10   1   3   3   0   2   0  42]]\n"
     ]
    }
   ],
   "source": [
    "print('------------------  Naive Bayse Bag Of  Word  ------------------\\n')\n",
    "print(\"La précision sur les données d'entrainement est : \", metrics.accuracy_score(y_train, pred_train))\n",
    "print(\"La précision sur les données de validation est : \", metrics.accuracy_score(y_dev, pred_dev))\n",
    "print(\"La précision sur les données de test est : \", metrics.accuracy_score(y_test, pred_test))\n",
    "print('\\n\\n Matrice de Classification \\n')\n",
    "print(classification_report(y_test, pred_test))\n",
    "print('Matrice de Confusion Bag Of Word')\n",
    "print(confusion_matrix(y_test, pred_test))"
   ]
  },
  {
   "cell_type": "code",
   "execution_count": 75,
   "metadata": {},
   "outputs": [
    {
     "name": "stdout",
     "output_type": "stream",
     "text": [
      "---------------------- TF-IDF -----------------------\n",
      "\n",
      "La précision sur les données d'entrainement es:  0.7415031115366204\n",
      "La précision sur les données de validation est :  0.6556671449067432\n",
      "La précision sur les données de test est :  0.6422413793103449\n",
      "\n",
      "\n",
      " Matrice de Classification \n",
      "\n",
      "               precision    recall  f1-score   support\n",
      "\n",
      "Advertisement       1.00      0.21      0.35        47\n",
      "        Email       0.90      0.94      0.92       120\n",
      "         Form       0.58      0.84      0.68        76\n",
      "       Letter       0.56      0.67      0.61       132\n",
      "         Memo       0.46      0.86      0.60       112\n",
      "         News       0.91      0.53      0.67        38\n",
      "         Note       0.00      0.00      0.00        39\n",
      "       Report       0.56      0.10      0.18        48\n",
      "       Resume       1.00      0.90      0.95        21\n",
      "   Scientific       0.89      0.51      0.65        63\n",
      "\n",
      "  avg / total       0.67      0.64      0.61       696\n",
      "\n",
      "\n",
      "Matrice de Confusion TF-IDF\n",
      "[[ 10   1  16   8  12   0   0   0   0   0]\n",
      " [  0 113   0   3   4   0   0   0   0   0]\n",
      " [  0   2  64   1   9   0   0   0   0   0]\n",
      " [  0   1   0  88  41   0   0   1   0   1]\n",
      " [  0   3   1  12  96   0   0   0   0   0]\n",
      " [  0   1   5  10   0  20   0   2   0   0]\n",
      " [  0   4  13  10  11   0   0   0   0   1]\n",
      " [  0   0   0  17  23   1   0   5   0   2]\n",
      " [  0   0   1   1   0   0   0   0  19   0]\n",
      " [  0   0  11   7  11   1   0   1   0  32]]\n"
     ]
    },
    {
     "name": "stderr",
     "output_type": "stream",
     "text": [
      "C:\\ProgramData\\Anaconda3\\lib\\site-packages\\sklearn\\metrics\\classification.py:1135: UndefinedMetricWarning: Precision and F-score are ill-defined and being set to 0.0 in labels with no predicted samples.\n",
      "  'precision', 'predicted', average, warn_for)\n"
     ]
    }
   ],
   "source": [
    "print('---------------------- TF-IDF -----------------------\\n')\n",
    "print(\"La précision sur les données d'entrainement es: \", metrics.accuracy_score(y_train, pred_train_tf))\n",
    "print(\"La précision sur les données de validation est : \", metrics.accuracy_score(y_dev, pred_dev_tf))\n",
    "print(\"La précision sur les données de test est : \", metrics.accuracy_score(y_test, pred_test_tf))\n",
    "print('\\n\\n Matrice de Classification \\n')\n",
    "print(classification_report(y_test, pred_test_tf))\n",
    "print()\n",
    "print('Matrice de Confusion TF-IDF')\n",
    "print(confusion_matrix(y_test, pred_test_tf))"
   ]
  },
  {
   "cell_type": "code",
   "execution_count": 82,
   "metadata": {},
   "outputs": [
    {
     "name": "stdout",
     "output_type": "stream",
     "text": [
      "---------------------- MLP Classifier with TF-IDF representation -----------------------\n",
      "\n",
      "La précision sur les données d'entrainement est :  0.9621828626136908\n",
      "La précision sur les données de validation est :  0.7790530846484935\n",
      "La précision sur les données de test est :  0.7586206896551724\n",
      "\n",
      "\n",
      " Matrice de Classification \n",
      "\n",
      "               precision    recall  f1-score   support\n",
      "\n",
      "Advertisement       0.80      0.43      0.56        47\n",
      "        Email       0.92      0.97      0.94       120\n",
      "         Form       0.72      0.89      0.80        76\n",
      "       Letter       0.78      0.69      0.73       132\n",
      "         Memo       0.76      0.82      0.79       112\n",
      "         News       0.78      0.76      0.77        38\n",
      "         Note       0.50      0.82      0.62        39\n",
      "       Report       0.48      0.48      0.48        48\n",
      "       Resume       1.00      0.95      0.98        21\n",
      "   Scientific       0.84      0.59      0.69        63\n",
      "\n",
      "  avg / total       0.77      0.76      0.76       696\n",
      "\n",
      "\n",
      "Matrice de Confusion MLP-BoW\n",
      "[[ 20   0   2   1   0   0  23   1   0   0]\n",
      " [  0 116   0   2   1   0   0   1   0   0]\n",
      " [  0   0  68   2   1   0   5   0   0   0]\n",
      " [  0   6   2  91  21   3   0   8   0   1]\n",
      " [  0   2   1   6  92   1   2   8   0   0]\n",
      " [  4   1   1   0   0  29   0   3   0   0]\n",
      " [  0   0   5   1   0   0  32   0   0   1]\n",
      " [  0   1   3  12   3   1   0  23   0   5]\n",
      " [  0   0   1   0   0   0   0   0  20   0]\n",
      " [  1   0  12   1   3   3   2   4   0  37]]\n"
     ]
    }
   ],
   "source": [
    "print('---------------------- MLP Classifier with TF-IDF representation -----------------------\\n')\n",
    "\n",
    "print(\"La précision sur les données d'entrainement est : \", metrics.accuracy_score(y_train, pred_train_mlp))\n",
    "print(\"La précision sur les données de validation est : \", metrics.accuracy_score(y_dev, pred_dev_mlp))\n",
    "print(\"La précision sur les données de test est : \", metrics.accuracy_score(y_test, pred_test_mlp))\n",
    "print('\\n\\n Matrice de Classification \\n')\n",
    "print(classification_report(y_test, pred_test_mlp))\n",
    "print()\n",
    "print('Matrice de Confusion MLP-BoW')\n",
    "print(confusion_matrix(y_test, pred_test_mlp))"
   ]
  },
  {
   "cell_type": "markdown",
   "metadata": {},
   "source": [
    "# Conclusion "
   ]
  },
  {
   "cell_type": "markdown",
   "metadata": {},
   "source": [
    "Dans ce travail j'ai comparé entre deux methodes, la première cosistait à entrainer un classifieur bayésien naif, sur des données transformées par un Bag Of Word, et un TF-IDF, la deuxième methode consiste à utiliser un réseau de neurones dans mon cas un MLP, pour classer les meme donnnées. l'utilisation d'un classifieur bayesien,est  réputé pour etre non performant dans le cas où les mots son dépendant entre eux, mais puisque c'est simple à implémenter et rapide à exécuter j'ai choisie de le tester, et puis le comparer avec un reseau de neurone qui sont réputés pour etre beaucoup plus raubuste et voir ce que ça donne.\n",
    "\n",
    "J'ai remarque que le modèle bayèsien nous donne une précision de 71% dans le cas où les données sont transformées avec un bag of word, et 64% dans le cas où il sont transformées avec un TF-IDF\n",
    "Tandis qu'avec le reseau de neurones la précision sur les données de test est de 75%.\n",
    "En regardant la matrice de Confusion des deux approches, on remarque que la méthode bayésiène n'est pas équilibré et de nombreuses classes sont confondus, contairement à la matrice du reseau de neurone."
   ]
  },
  {
   "cell_type": "markdown",
   "metadata": {},
   "source": [
    "# Pistes d'améliorations"
   ]
  },
  {
   "cell_type": "markdown",
   "metadata": {},
   "source": [
    "l'idée que j'ai eu et que j'ai appliqué durant ce travail et de combiner les approches, mais on pourrait aller plus loin, puisque de nos jours les CNN, sont entrain d'ateindres des résultats trés satisfaisants,en terme de reconnaissance d'image, et puisque on à déjas les images des documents scanés, on aura pas besoin du texte obtenu à l'aide d'un OCR et qui contient des erreurs d'interprétation, on donne en entrée à un reseau de neurones à convolution, nos images de documents qui va classer automatiquement, seul inconvénient c'est qu'il faut avoir une grande base de données d'apprentissage étiquettée. \n",
    "\n",
    "\n"
   ]
  }
 ],
 "metadata": {
  "kernelspec": {
   "display_name": "Python 3",
   "language": "python",
   "name": "python3"
  },
  "language_info": {
   "codemirror_mode": {
    "name": "ipython",
    "version": 3
   },
   "file_extension": ".py",
   "mimetype": "text/x-python",
   "name": "python",
   "nbconvert_exporter": "python",
   "pygments_lexer": "ipython3",
   "version": "3.6.3"
  }
 },
 "nbformat": 4,
 "nbformat_minor": 2
}
